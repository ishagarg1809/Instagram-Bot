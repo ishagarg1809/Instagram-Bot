{
 "cells": [
  {
   "cell_type": "code",
   "execution_count": 81,
   "metadata": {},
   "outputs": [
    {
     "data": {
      "text/plain": [
       "<selenium.webdriver.chrome.webdriver.WebDriver (session=\"e228b8856a71290039b85dcccbc6292b\")>"
      ]
     },
     "execution_count": 81,
     "metadata": {},
     "output_type": "execute_result"
    }
   ],
   "source": [
    "from selenium import webdriver\n",
    "import time\n",
    "import re\n",
    "import numpy as np\n",
    "from selenium.webdriver.common.by import By\n",
    "from selenium.webdriver.support.ui import WebDriverWait\n",
    "from selenium.webdriver.support import expected_conditions as EC\n",
    "from selenium.webdriver.common.action_chains import ActionChains\n",
    "from selenium.webdriver.common.keys import Keys\n",
    "from selenium.common.exceptions import NoSuchElementException\n",
    "\n",
    "driver = webdriver.Chrome(executable_path=r\"C:\\Users\\Rohan Garg\\Desktop\\Isha Master File\\chrome driver\\chromedriver.exe\")\n",
    "driver"
   ]
  },
  {
   "cell_type": "code",
   "execution_count": 82,
   "metadata": {},
   "outputs": [],
   "source": [
    "##login into instagram account\n",
    "def login_account(username, password) :\n",
    "    driver.get('https://www.instagram.com/?hl=en')\n",
    "    \n",
    "    time.sleep(3)\n",
    "    \n",
    "    #To fill in username : first find it and then enter values\n",
    "    user = driver.find_element_by_name('username')\n",
    "    user.send_keys(username)\n",
    "\n",
    "    #Finding and then filling the password tab\n",
    "    passw = driver.find_element_by_name('password')\n",
    "    passw.send_keys(password)\n",
    "\n",
    "    #Finding submit button\n",
    "    button = driver.find_element_by_xpath('//button/div')\n",
    "    button.click()\n",
    "\n",
    "    time.sleep(5)\n",
    "\n",
    "    pop_up = driver.find_elements_by_xpath('//div[contains(@class, \"mt3GC\")]/button')[-1]\n",
    "    pop_up.click()\n",
    "    \n",
    "login_account('SAMPLE USERNAME', 'SAMPLE PASSWORD')"
   ]
  },
  {
   "cell_type": "code",
   "execution_count": 118,
   "metadata": {},
   "outputs": [
    {
     "data": {
      "text/plain": [
       "{'foodnetwork': 10300000,\n",
       " 'buzzfeedfood': 3700000,\n",
       " 'dilsefoodie': 447000,\n",
       " 'foodtalkindia': 295000,\n",
       " 'food': 30000}"
      ]
     },
     "execution_count": 118,
     "metadata": {},
     "output_type": "execute_result"
    }
   ],
   "source": [
    "#Ques 1, 1)\n",
    "\n",
    "def find_followers(username) :\n",
    "    driver.get('https://www.instagram.com/'+ username+'/')\n",
    "    \n",
    "    num_followers = driver.find_elements_by_class_name('g47SY ')[1].text\n",
    "    if num_followers.find('.') != -1 :\n",
    "        l = num_followers.split('.')\n",
    "        last_char = l[-1][-1]\n",
    "        zeroes = ''\n",
    "        if last_char == 'k' :\n",
    "            zeroes = l[-1][0]+'00'\n",
    "        elif last_char == 'm' :\n",
    "            zeroes = l[-1][0]+'00000'\n",
    "        num_followers = l[0] + zeroes\n",
    "\n",
    "    elif num_followers.find(',') != -1 :\n",
    "        l = num_followers.split(',')\n",
    "        num_followers = l[0]+l[1]\n",
    "\n",
    "    else :\n",
    "        last_char = num_followers[-1]\n",
    "        num = re.search('\\d+', num_followers).group()\n",
    "        zeroes = ''\n",
    "        if last_char == 'k' :\n",
    "            zeroes = '000'\n",
    "        elif last_char == 'm' :\n",
    "            zeroes = '000000'    \n",
    "        num_followers = num + zeroes\n",
    "    \n",
    "    return int(num_followers)\n",
    "\n",
    "\n",
    "def top_5_highest_followers (search_name) :\n",
    "    search = driver.find_element_by_xpath('//input[@placeholder = \"Search\"]')\n",
    "    search.send_keys(search_name)\n",
    "    \n",
    "    time.sleep(1)\n",
    "    \n",
    "    food_accounts=[]\n",
    "    resp_followers=[]\n",
    "    count=0\n",
    "    \n",
    "    handles = driver.find_elements_by_class_name('Ap253')\n",
    "    for i in handles :\n",
    "        if count > 10 :\n",
    "            break\n",
    "        f = i.text\n",
    "        if '#' not in f and ',' not in f:\n",
    "            food_accounts.append(f)\n",
    "            \n",
    "        count += 1\n",
    "    \n",
    "    for i in range(10) :\n",
    "        resp_followers.append(find_followers(food_accounts[i]))\n",
    "    \n",
    "    np_followers = np.array(resp_followers)\n",
    "    np_handles = np.array(food_accounts)\n",
    "    \n",
    "    np_handles = np_handles[np_followers.argsort()]\n",
    "    np_followers.sort()\n",
    "    \n",
    "    np_handles = np_handles[::-1]\n",
    "    np_followers = np_followers[::-1]\n",
    "    \n",
    "    d = dict()\n",
    "    for i in range(5) :\n",
    "        d[np_handles[i]] = np_followers[i]\n",
    "\n",
    "    return d\n",
    "\n",
    "followers_dict = dict()\n",
    "followers_dict = top_5_highest_followers('food')\n",
    "followers_dict"
   ]
  },
  {
   "cell_type": "code",
   "execution_count": 130,
   "metadata": {},
   "outputs": [
    {
     "data": {
      "text/plain": [
       "{'foodnetwork': 39,\n",
       " 'buzzfeedfood': 0,\n",
       " 'dilsefoodie': 2,\n",
       " 'foodtalkindia': 8,\n",
       " 'food': 6}"
      ]
     },
     "execution_count": 130,
     "metadata": {},
     "output_type": "execute_result"
    }
   ],
   "source": [
    "#Ques 1, 2)\n",
    "\n",
    "food_handles = []\n",
    "for i in followers_dict :\n",
    "    food_handles.append(i)\n",
    "\n",
    "def last3days_posts (username) :\n",
    "    driver.get('https://www.instagram.com/'+ username+'/')\n",
    "    time.sleep(1)\n",
    "    driver.find_element_by_xpath('//div[contains(@class, \"eLAPa\")]').click()   ##To open the first post\n",
    "    \n",
    "    post_count = 0\n",
    "    to_include = True\n",
    "    \n",
    "    while to_include :\n",
    "        time.sleep(2)\n",
    "        t = driver.find_element_by_xpath('//a[contains(@class, \"c-Yi7\")]/time').text\n",
    "        if t.find('HOURS') != -1 or t.find('HOUR') != -1 :\n",
    "            to_include = True     ## Because instagram shows hours upto 24 so they will be included\n",
    "            post_count += 1\n",
    "        elif t.find('MINUTE') != -1 or t.find('MINUTES') != -1:\n",
    "            to_include = True\n",
    "            post_count += 1\n",
    "        elif t.find('DAY') != -1 or t.find('DAYS') != -1 :\n",
    "            num = re.search('\\d', t).group()\n",
    "            if int(num) < 4 :    ## I have also included the '3 days ago' posts\n",
    "                to_include = True\n",
    "                post_count += 1\n",
    "            else :\n",
    "                to_include = False\n",
    "        else :\n",
    "            to_include = False\n",
    "            \n",
    "        driver.find_elements_by_xpath('//div[contains(@class, \"DdSX2\")]/a')[-1].click()  ##To click on next post\n",
    "        time.sleep(2)\n",
    "            \n",
    "    return post_count\n",
    "\n",
    "posts_dict = dict()\n",
    "for i in range(5) :\n",
    "    count = last3days_posts(food_handles[i])\n",
    "    posts_dict[food_handles[i]] = count\n",
    "\n",
    "posts_dict"
   ]
  },
  {
   "cell_type": "code",
   "execution_count": 272,
   "metadata": {},
   "outputs": [
    {
     "data": {
      "image/png": "[encoded data removed]",
      "text/plain": [
       "<Figure size 432x288 with 1 Axes>"
      ]
     },
     "metadata": {
      "needs_background": "light"
     },
     "output_type": "display_data"
    }
   ],
   "source": [
    "#Ques 1, 3)\n",
    "import matplotlib.pyplot as plt\n",
    "\n",
    "handle_names=[]\n",
    "follower_count=[]\n",
    "post_count=[]\n",
    "for i in followers_dict :\n",
    "    handle_names.append(i)\n",
    "    follower_count.append(followers_dict[i])\n",
    "    \n",
    "for i in posts_dict :\n",
    "    post_count.append(posts_dict[i])\n",
    "\n",
    "np_follower_count = np.array(follower_count)\n",
    "np_follower_count = np_follower_count/10000\n",
    "plt.scatter(handle_names, post_count, s = np_follower_count)\n",
    "plt.title('Food handles vs num of posts')\n",
    "plt.xticks(rotation=90)\n",
    "for i in range(5) :\n",
    "    plt.text(handle_names[i], post_count[i]+3, follower_count[i])\n",
    "plt.grid()\n",
    "plt.xlabel('Food Handles')\n",
    "plt.ylabel('Num of posts')\n",
    "plt.grid()\n",
    "plt.show()"
   ]
  },
  {
   "cell_type": "code",
   "execution_count": 218,
   "metadata": {
    "collapsed": true
   },
   "outputs": [
    {
     "name": "stdout",
     "output_type": "stream",
     "text": [
      "{'Summertime': 1, 'Sunshine': 1, 'Cake': 2, '☀️': 1, 'Bring': 1, 'summertime': 1, 'inside': 1, 'with': 24, 'this': 9, 'incredible': 1, 'sunshine-inspired': 1, 'cake!': 1, 'Incredible': 1, 'work,': 1, '👏': 1, \"Don't\": 1, 'miss': 2, 'the': 60, 'season': 2, 'finale': 1, 'of': 26, '>': 4, 'Tonight': 2, 'at': 15, '9|8c': 3, 'The': 1, 'Perfect': 1, 'Strawberry': 3, 'Pie': 1, '🥧': 1, \"Now's\": 1, 'THE': 1, 'time': 3, 'to': 32, 'make': 3, 'Pie!': 1, '🍓🍓': 1, 'And': 6, 'you': 16, 'can': 4, 'use': 2, 'store-bought': 1, 'crust,': 1, 'too!': 1, 'Catch': 2, 'a': 30, 'marathon': 1, 'your': 15, 'favorite': 2, 'episodes': 2, 'coming': 1, 'up': 6, '10a|9c': 1, 'today.': 1, 'Save': 2, 'recipe': 7, 'on': 20, 'app.': 2, 'Class': 1, 'Day:': 2, 'Kale': 1, 'Lemon-Pepper': 1, 'Chicken': 4, '🍋': 1, 'This': 5, 'one-pan': 1, 'meal': 2, 'is': 14, 'packed': 1, 'kale,': 1, 'chicken': 4, 'and': 45, 'Brussels': 1, 'sprouts,': 1, \"it's\": 1, 'cinch': 1, 'pull': 1, 'together': 2, 'any': 1, 'night': 1, 'week!': 1, 'shares': 1, 'in': 26, 'her': 6, 'class': 2, '💫UP': 1, 'NEXT💫The': 1, 'roles': 1, 'get': 4, 'reversed': 1, 'boot': 1, 'camp': 1, 'as': 4, 'play': 1, 'fan-favorite': 1, 'game,': 1, 'Remote-Control': 1, 'Chef!': 1, 'Then,': 1, 'recruits': 1, 'are': 10, 'challenged': 1, 'putting': 1, 'their': 4, 'own': 1, 'twist': 1, 'homemade': 4, 'ravioli': 1, 'an': 3, 'all': 6, 'new': 2, '9|8c!': 1, 'Q&A': 1, 'Chef': 3, 'Chris': 2, '“It’s': 1, 'real-deal': 1, 'look': 1, 'into': 2, 'our': 7, 'kitchen': 5, 'marriage.”': 1, 'take': 4, 'us': 4, 'behind': 1, 'scenes': 1, 'all-new': 2, 'Monday': 1, '10|9c!': 1, 'If': 4, 'have': 7, 'potatoes,': 1, 'eggs': 1, 'flour': 1, 'then': 2, 'create': 3, 'some': 2, 'pillowy': 1, 'gnocchi': 1, 'home': 4, 'like': 5, 'did!': 1, 'Pair': 1, 'it': 10, 'simple': 1, 'tomato': 2, 'sauce': 1, 'for': 28, 'perfect': 2, 'dinner.': 1, 'Watch': 1, 'his': 1, 'full': 1, 'app': 2, 'today,': 1, \"don't\": 1, 'forget': 1, 'share': 1, 'photos': 1, 'hashtag': 1, 'Nacho': 1, 'Pollo': 1, 'Loco': 1, '(with': 2, 'deli': 1, 'serving': 1, 'sandwiches': 1, 'coated': 1, 'nacho': 1, 'cheese': 2, 'chips': 1, 'jalapeño': 1, 'cheddar': 1, 'bread': 1, '🤯': 1, 'Find': 1, 'Full': 1, 'Belly': 1, 'Deli!': 1, 'Fridays': 1, 'adding': 1, 'something': 3, 'sweet,': 1, 'spicy': 1, 'bleu': 1, 'fresh': 1, 'ravioli!': 1, 'All-new': 1, 'Celebrity': 2, 'Edition': 2, 'Recipe': 11, 'Berry': 1, 'Strata': 1, '🍓Save': 1, 'today!': 1, 'Ravioli': 2, 'Ricotta': 2, 'Mushrooms': 1, 'Anne': 1, 'whips': 1, 'famous': 1, 'pasta': 1, 'dough': 1, 'Mushrooms!': 1, 'Get': 2, 'sneak': 1, 'peek': 1, \"Anne's\": 1, 'Boot': 1, 'Camp': 1, 'demo': 1, 'before': 1, 'tonight': 1, '9|8c.': 1, 'app!': 1, 'place': 2, 'Seattle': 1, 'serves': 2, 'tide-to-table': 1, 'shellfish!': 1, '😱Follow': 1, 'more': 8, 'foodie': 7, 'spots': 1, 'around': 5, 'world!': 3, 'Are': 5, 'ready': 1, 'bougie': 1, 'budget?': 1, 'You': 4, 'Michelin': 1, 'star': 1, 'Paris!': 1, '🇫🇷Follow': 1, 'adventures!': 3, 'Why': 1, \"aren't\": 1, 'following': 2, 'yet?!': 1, '🍜Follow': 1, '🌍✈️': 1, 'Brazil': 1, 'makes': 1, 'cheesiest': 1, 'chili': 1, 'cheeseburgers!': 1, '😋🍔Follow': 1, 'more!': 2, 'Move': 1, 'over': 2, 'Italy,': 1, 'Vancouver': 1, 'might': 1, \"world's\": 1, 'best': 3, 'gelato!': 1, \"🍨What's\": 1, 'gelato': 1, 'flavor?': 1, 'Follow': 1, 'mouthwatering': 1, 'adventures': 4, 'globe!': 2, '🌎': 1, 'Sushi': 1, '+': 1, 'sustainability': 1, '=': 1, 'my': 1, 'dream': 1, 'come': 1, 'true!': 1, '🍣Follow': 1, '✈️': 4, '.': 26, 'These': 1, 'cheesecake': 1, 'tea': 1, 'cups': 1, \"I'll\": 1, 'one': 1, 'EVERYTHING.': 1, '😍🍰Follow': 1, 'pickle': 1, 'beer': 1, 'flights': 1, 'southern': 1, 'twist!': 1, '🍻Follow': 1, 'Cozy': 1, 'hot': 1, 'chocolate': 6, 'café!': 1, 'They': 1, '50': 1, 'different': 1, 'kinds!': 1, '☕️🍫Follow': 1, 'Thanks': 1, 'dairy-free': 1, 'blueberry': 1, 'lime': 1, '“cheesecake”': 1, '😍🤤': 1, 'My': 2, \"Dad's\": 1, 'Favourite': 1, 'Jeera': 1, 'Aloo': 1, 'Super': 1, 'Chatpata': 1, 'Spicy': 2, 'Very': 1, 'Easy': 1, 'To': 3, 'Cook': 1, '😬.': 1, 'Goan': 1, 'Style': 3, 'Curry': 1, 'Ye': 2, 'Wali': 1, 'Try': 1, 'Karo': 1, 'Like': 1, 'Coconut': 1, 'Flavour': 1, 'Food': 4, 'Korma': 8, 'Ab': 1, 'Banao': 1, 'Ghar': 1, 'Pe': 1, 'Also': 2, 'Missing': 2, 'Street': 2, '?': 1, 'Tag': 2, 'Your': 1, 'Foodie': 1, 'Friends': 2, 'Tell': 2, 'Me': 2, 'After': 1, 'Which': 2, 'Missing🙄.': 1, 'French': 1, 'Toast': 1, 'Simple': 1, 'Best': 1, 'Breakfast': 1, 'Restaurant': 1, 'Sirf': 1, '3hours': 1, 'Khulta': 1, 'Hai': 1, 'Special': 3, 'Mutton': 7, 'Thali': 1, 'At': 2, 'Nana': 1, 'Hotel': 1, 'NH': 1, '16,': 1, 'Odisha': 2, 'Old': 2, 'Delhi': 2, 'EID': 2, 'Credit': 1, 'Mubarak': 1, 'All': 2, 'Coming': 1, 'Tomorrow': 1, 'Evening.': 1, 'Fans': 1, 'Who': 2, '😁.': 1, 'Is': 1, 'Good': 1, \"Karim's\": 1, 'Or': 1, 'Al': 1, 'Jawahar': 1, 'Bamboo': 1, 'Biryani': 1, 'Jungle': 1, 'View': 1, 'Restaurant,': 1, 'VIRTUAL': 1, 'IFTAAR': 1, 'E': 2, 'MEHFIL': 1, '!!': 2, 'Zindagi': 1, 'ki': 1, 'thi': 1, 'tez': 1, 'raftaar': 1, 'Jaate': 1, 'doston': 1, 'ke': 1, 'ghar': 1, 'Iftaar': 3, 'Aaj': 2, 'karenge': 1, 'hum': 1, 'iftaar': 1, 'virtual': 1, 'Pehle': 1, 'wali': 1, 'Eid': 1, 'manayenge': 1, 'nahi': 1, 'Kal': 1, '!': 3, 'Do': 1, 'going': 1, 'friends': 2, 'family': 2, '‘s': 1, 'homes': 2, 'Iftaari!?': 1, 'Well': 1, 'Virtual': 2, 'Mehfil': 2, 'we': 5, 'did': 2, 'United': 1, 'Festival': 1, 'Covid': 1, '19': 1, 'has': 4, 'locked': 1, 'down': 1, 'but': 2, 'cannot': 2, 'away': 1, 'spirit': 1, 'celebration': 1, 'festivals': 1, 'Will': 1, 'join': 1, '!?': 1, 'In': 3, 'video': 1, 'Concept': 1, 'by': 5, 'Video': 1, 'editing': 1, 'caption': 1, 'Now': 2, 'open': 2, 'delivery': 5, 'pick-up!': 1, 'Some': 1, 'favourite': 4, 'gourmet': 1, 'restaurants': 1, 'started': 2, 'delivery,': 1, 'bringing': 1, 'happiness': 2, 'right': 1, 'back': 1, 'doorstep!': 1, 'help': 1, 'feed': 1, 'those': 1, 'cravings,': 1, 'we’ve': 1, 'put': 2, 'selection': 1, 'week': 1, 'these': 2, '5': 1, 'addresses.': 1, 'So': 1, 'swipe': 1, 'left': 1, 'order': 2, 'gorge': 1, 'food': 3, 'home!': 1, '*': 5, 'punch': 1, 'packing,': 1, 'boozy': 1, 'bitter': 1, '3': 3, 'ingredient': 2, 'cocktail': 2, 'none': 1, 'other.': 1, 'Here': 1, 'interesting': 1, 'facts': 1, 'about': 3, 'Negroni.': 1, '-': 3, 'It': 1, 'was': 1, 'created': 2, 'upon': 1, 'request': 1, '‘Americano': 1, 'gin’': 1, 'Count': 1, 'Camillo': 1, 'Negroni': 1, '(Italian': 1, 'nobleman)': 1, '1919': 1, 'Florence': 1, 'Has': 1, 'been': 1, 'voted': 1, 'second': 2, 'four': 1, 'times': 1, 'row': 1, 'according': 1, 'Drinks': 1, 'International.': 1, 'Negronis': 1, 'always': 1, 'far': 1, 'better': 1, 'when': 1, 'stirred': 1, 'finger': 1, 'Mangoes,': 1, 'Avocados,': 1, 'Pineapple,': 1, 'watermelon': 1, 'many': 1, 'more.': 1, 'all.': 1, 'A': 3, 'grown': 1, 'brand': 1, 'that': 3, 'believes': 1, 'handpicked': 1, 'fruit.': 1, 'No': 1, 'need': 1, 'worry': 1, 'stepping': 1, 'out': 4, 'exposing': 1, 'yourself': 2, 'taste': 1, 'goodness': 1, 'fruit': 1, '🥭🥑🍉🍍': 1, 'For': 3, 'contactless': 2, 'safe': 2, 'whatsapp': 1, '+919818817754': 1, 'Tired': 1, 'cooking': 1, 'home?': 1, 'opened': 1, 'its': 1, 'kitchens': 1, 'now': 2, 'available': 2, 'through': 1, 'take-away': 1, 'or': 7, 'deliveries.': 1, 'Taking': 2, 'possible': 1, 'hygiene': 3, 'measures': 1, 'give': 1, 'same': 1, 'experience': 2, 'savoured': 1, 'since': 1, 'decades.': 1, 'Deliveries': 1, '&': 2, 'Take': 1, 'Out': 1, 'Call:': 1, '\\u202a9650596114\\u202c': 1, '/': 2, '\\u202a01123416075\\u202c': 1, '\\u202a01123411697\\u202c': 1, 'E-15,': 1, 'Inner': 1, 'Circle': 1, 'Connaught': 1, 'Place': 1, 'Ice': 1, 'game': 1, 'strong': 1, 'how': 2, 'crystal': 1, 'clear': 1, 'ice': 2, 'blocks': 2, 'From': 1, 'flavourful': 1, 'biryani': 1, 'melt': 1, 'mouth': 1, 'kakori': 1, 'kebabs': 1, 'heavenly': 2, 'butter': 3, 'so': 2, 'much': 1, 'delivering': 2, 'deliciousness': 1, 'from': 6, 'restaurant': 3, 'door.': 1, 'precautions': 1, 'ensuring': 1, 'nothing': 1, 'safest': 1, 'deliveries!': 1, 'Defence': 1, 'Colony:': 1, '011-41627744': 1, 'PVR': 1, 'Saket:': 1, '011-46581555': 1, 'restaurant/': 1, 'looking': 1, 'reopen': 1, 'operations': 1, 'phase': 1, 'restrictions': 1, 'lifting,': 1, 'here': 2, 'guide': 1, 'stay': 1, 'keep': 1, 'customers': 2, 'safe.': 1, 'Step': 5, '1.': 2, 'Deep': 1, 'cleaning': 1, 'sanitisation:': 1, '🧼': 1, 'easily': 1, 'doable': 1, 'services': 1, 'virus': 1, 'busters': 1, '2.': 2, 'Setting': 1, 'safety': 2, 'protocols:': 1, '🌡️': 1, 'Mandatory': 1, 'temperature': 2, 'checks': 1, 'everyday;': 1, 'sanitiser': 2, 'application,': 1, '20': 1, 'hand': 1, 'wash': 1, 'requirement': 1, 'regular': 1, 'intervals': 1, 'staff': 2, 'visitors.': 1, 'boys': 2, 'set': 1, 'pick-up': 1, 'counter': 1, 'dispenser': 1, 'staff.': 1, '3:': 1, 'Menu': 1, 'planning:': 1, '📋': 1, 'Plan': 1, 'limited': 1, 'menu': 2, 'start': 2, 'dishes': 1, 'people': 1, 'missing': 1, 'focus': 1, 'great': 2, 'quality.': 1, '4:': 1, 'Minimum': 1, 'hands': 1, 'board:': 1, '✋': 1, 'Keep': 1, 'strength': 1, 'bare': 1, 'minimum': 1, 'required': 1, 'ensure': 2, 'everyone': 2, 'strict': 1, 'protocol': 1, 'both': 1, 'home.': 1, 'An': 1, 'ideal': 1, 'team': 1, '2-3': 2, 'what': 1, 'suggest': 1, 'now.': 1, '5:': 1, 'Communicate': 1, 'local': 1, '🗣️': 1, 'Reach': 1, 'customers,': 1, 'send': 1, 'them': 4, 'catalogue': 1, 'let': 1, 'know': 2, 'delivery/': 1, 'takeout.': 1, 'Ps.': 1, 'Add': 2, 'note': 1, \"chef's\": 1, 'body': 1, 'along': 1, '100%': 1, 'customers.': 1, '📝': 1, 'Ooops': 1, 'again!': 1, '🙈': 1, 'Whether': 1, 'first': 1, 'baker': 1, 'pro': 1, 'would': 1, 'believe': 1, 'point': 1, 'life': 1, 'mistakenly': 1, 'used': 2, 'salt': 2, 'instead': 1, 'icing': 1, 'sugar.': 1, '🤷\\u200d♀️': 1, 'Share': 1, 'hilarious': 1, 'quarantine': 1, 'baking': 2, 'disasters': 1, 'comments': 1, 'below': 1, 'claim': 1, 'champion': 1, 'most-failed': 1, 'attempts.': 1, '💪': 1, 'Gooey': 1, 'fudge/brigadeiro': 1, '(': 1, ')': 2, 'delicious': 2, 'indulgent': 1, 'that’s': 1, 'super': 1, 'easy,': 1, 'goes': 1, 'fudge!': 1, '64%': 2, 'malabar': 1, 'dark': 2, 'chef’s': 1, '33%': 2, 'blended': 1, 'milk': 4, 'chocolate.': 1, 'Ingredients': 1, '-150ml': 1, 'condensed': 2, '-450g': 1, '(half': 1, 'Malabar': 1, 'half': 1, 'Chef’s': 1, '-100g': 1, 'unsalted': 1, '-big': 1, 'pinch': 2, 'salt.': 1, 'Steps': 1, 'saucepan': 1, 'add': 1, 'chunks': 1, 'milk.': 1, 'Make': 1, 'sure': 1, 'heat': 1, 'low': 1, 'medium': 1, 'mixing': 1, 'ingredients': 1, 'saucepan.': 1, '3.': 1, 'Mix': 1, 'constantly': 1, 'does': 1, 'not': 1, 'stuck': 1, 'pan.': 1, '4.': 1, 'continue': 1, 'mixing.': 1, '5.': 1, 'When': 1, 'starts': 1, 'bubble': 1, 'up,': 1, 'switch': 1, 'off': 2, 'heat.': 1, '6.': 1, 'Line': 1, 'tin': 1, 'little': 1, 'bit': 1, 'oil': 1, 'butter.': 1, '7.': 1, 'Pour': 1, 'fudge': 1, 'in.': 1, '8.': 1, 'Let': 1, 'sit': 1, 'fridge': 1, 'hours.': 1, '9.': 1, 'Then': 1, 'cut': 1, 'roll': 1, 'truffle': 1, 'balls': 1, 'enjoy!': 1, 'captured': 1, 'shot': 1, 'taquitos': 1, 'stop': 1, 'thinking': 1, 'it\\u2060.\\u2060': 1, '\\u2060': 22, \"you're\": 1, 'Denver,': 1, 'check': 1, 'beautiful': 1, 'donuts!!!\\u2060': 1, 'two': 1, 'trying': 1, 'bring': 1, '(donuts)': 1, 'world': 1, 'during': 1, 'tough': 1, 'time.': 1, 'DM': 1, 'Pickup': 1, 'Delivery,': 1, 'next': 1, 'day!\\u2060': 1, 'Denver': 1, 'takeout': 1, 'delivery!': 1, 'ordering': 1, 'parm': 1, 'pizza,': 1, 'what?': 1, '😜🍗🍕\\u2060': 1, \"It's\": 1, 'cream': 1, 'cake': 1, 'baby!': 1, 'wants': 1, 'classic??': 1, '😍\\u2060': 1, 'Feeling': 1, 'quite': 1, 'inspired': 1, 'citrus': 1, 'rose': 1, 'sangria.': 1, 'What': 1, 'sipping': 1, 'weekend?\\u2060': 1, 'Looking': 1, 'page': 1, 'book': 1, 'bacon': 1, 'wrapped,': 1, 'blue': 1, 'stuffed': 1, 'dates.\\u2060': 1, 'Did': 1, 'sundried': 1, 'tomatoes': 1, 'oven?': 1, 'Crafty': 3, 'Baking': 2, 'bruschetta': 1, 'shown': 1, 'here!\\u2060': 1, 'version': 1, \"sheep's\": 1, 'agnolotti': 1, 'honey,': 1, 'sun': 1, 'dried': 1, 'thyme': 1, \"we're\": 1, 'DROOLING!': 1, 'website!\\u2060': 1, 'Cream': 1, 'Aquafaba': 1, 'Vegan': 1, 'shows': 1, 'true': 1, 'magic': 1, 'aquafaba': 1, 'bean!': 1, 'Baking!\\u2060': 1, 'Cheddar-Quinoa': 1, 'Egg': 1, 'Muffins': 1, 'feeding': 1, 'keeping': 1, 'deck': 1, 'yourself!\\u2060': 1, 'Link': 1, 'bio': 1, 'free': 1, 'recipe!\\u2060': 1}\n"
     ]
    }
   ],
   "source": [
    "#Ques 2, 1,2)\n",
    "\n",
    "def scrape_content(username) :\n",
    "    driver.get('https://www.instagram.com/'+ username+'/')\n",
    "    time.sleep(1)\n",
    "    driver.find_element_by_xpath('//div[contains(@class, \"eLAPa\")]').click()   ##To open the first post\n",
    "    time.sleep(1)\n",
    "    \n",
    "    tagged_people=[]\n",
    "    hashtags=[]\n",
    "    content=[]\n",
    "    cl=''\n",
    "    hl=''\n",
    "    for i in range(10) :\n",
    "        try :\n",
    "            driver.find_element_by_xpath('//div[contains(@class, \"C4VMK\")]/h2/div/a')\n",
    "            if driver.find_elements_by_xpath('//div[contains(@class, \"C4VMK\")]/h2/div/a')[0].text == username :\n",
    "                cl = driver.find_element_by_xpath('//div[contains(@class, \"C4VMK\")]/span').text.split() ##caption content\n",
    "\n",
    "            time.sleep(1)\n",
    "\n",
    "            if driver.find_elements_by_xpath('//div[contains(@class, \"C4VMK\")]/span')[1].text == username :\n",
    "                hl = driver.find_element_by_xpath('//div[contains(@class, \"C4VMK\")]/span').text.split() ## for cases in \n",
    "                ## which people comment and use hashtags \n",
    "\n",
    "            for i in range(len(cl)) :\n",
    "                if '#' in cl[i] :\n",
    "                    hashtags.append(cl[i])\n",
    "                elif '@' in cl[i] :\n",
    "                    tagged_people.append(cl[i])\n",
    "                else :\n",
    "                    content.append(cl[i])\n",
    "\n",
    "            for i in range(len(hl)) :\n",
    "                hashtags.append(hl[i])\n",
    "                \n",
    "        except :\n",
    "            EC.NoSuchElementException\n",
    "\n",
    "        driver.find_elements_by_xpath('//div[contains(@class, \"DdSX2\")]/a')[-1].click()  ##To click on next post\n",
    "        time.sleep(2)\n",
    "    \n",
    "    return tagged_people, hashtags, content\n",
    "\n",
    "tagged={}\n",
    "hashtags={}\n",
    "other_words={}\n",
    "t=[]\n",
    "h=[]\n",
    "c=[]\n",
    "for j in range(5) :\n",
    "    t, h, c = scrape_content(food_handles[j])\n",
    "    \n",
    "    for i in t :\n",
    "        if i in tagged :\n",
    "            tagged[i] += 1\n",
    "        else :\n",
    "            tagged[i] = 1\n",
    "    for i in h :\n",
    "        if i in hashtags :\n",
    "            hashtags[i] += 1\n",
    "        else :\n",
    "            hashtags[i] = 1    \n",
    "    for i in c :\n",
    "        if i in other_words :\n",
    "            other_words[i] += 1\n",
    "        else :\n",
    "            other_words[i] = 1  \n",
    "\n",
    "\n",
    "print(other_words)"
   ]
  },
  {
   "cell_type": "code",
   "execution_count": 274,
   "metadata": {},
   "outputs": [],
   "source": [
    "#Ques 2, 3)\n",
    "import pandas as pd\n",
    "\n",
    "def csv_file (dictionary, name) :\n",
    "    word_freq=[]\n",
    "    for i in dictionary :\n",
    "        word_freq.append([i,dictionary[i]])   \n",
    "        \n",
    "    df = pd.DataFrame(word_freq, columns=['Words', 'Frequency'])\n",
    "    df.to_csv(name)\n",
    "\n",
    "csv_file(other_words, 'food_word_freq.csv')"
   ]
  },
  {
   "cell_type": "code",
   "execution_count": 230,
   "metadata": {},
   "outputs": [
    {
     "name": "stdout",
     "output_type": "stream",
     "text": [
      "#dilsefoodie 10\n",
      "#food 8\n",
      "#yum 7\n",
      "#WeCook 3\n",
      "#WorstCooks 3\n",
      "#homemade 3\n",
      "#breakfast 2\n",
      "#baking 2\n",
      "#odisha 2\n",
      "#denver 2\n"
     ]
    }
   ],
   "source": [
    "#Ques 2, 4)\n",
    "\n",
    "def most_popular_hashtags (dictionary) :\n",
    "    hashtags=[]\n",
    "    freq=[]\n",
    "    for i in dictionary :\n",
    "        hashtags.append(i)\n",
    "        freq.append(dictionary[i])\n",
    "        \n",
    "    np_hashtags = np.array(hashtags)\n",
    "    np_freq = np.array(freq)\n",
    "    \n",
    "    np_hashtags = np_hashtags[np_freq.argsort()]\n",
    "    np_freq.sort()\n",
    "    \n",
    "    np_hashtags = np_hashtags[::-1]\n",
    "    np_freq = np_freq[::-1]\n",
    "    \n",
    "    for i in range(10) :\n",
    "        print(np_hashtags[i], np_freq[i])  ##Printing top 10 most used hashtags \n",
    "    \n",
    "    return np_hashtags, np_freq\n",
    "\n",
    "ha=[]\n",
    "fr=[]\n",
    "ha, fr = most_popular_hashtags(hashtags)"
   ]
  },
  {
   "cell_type": "code",
   "execution_count": 232,
   "metadata": {},
   "outputs": [
    {
     "data": {
      "image/png": "[encoded data removed]",
      "text/plain": [
       "<Figure size 432x288 with 1 Axes>"
      ]
     },
     "metadata": {},
     "output_type": "display_data"
    }
   ],
   "source": [
    "#Ques 2, 5)\n",
    "\n",
    "def pie_graph (hl, fl) :\n",
    "    hl = hl[:5]\n",
    "    fl = fl[:5]\n",
    "    \n",
    "    plt.pie(fl, labels = hl, autopct = '%.2f')\n",
    "    plt.show()\n",
    "    \n",
    "pie_graph(ha, fr)"
   ]
  },
  {
   "cell_type": "code",
   "execution_count": 264,
   "metadata": {},
   "outputs": [
    {
     "name": "stdout",
     "output_type": "stream",
     "text": [
      "['foodnetwork', 'buzzfeedfood', 'dilsefoodie', 'foodtalkindia', 'food'] [795.9199443628777, 649.4190332432338, 59.02314710892213, 395.33637094612703, 39.10323253388947]\n"
     ]
    }
   ],
   "source": [
    "#Ques 3, 1,2,3)\n",
    "\n",
    "def average_followers (username, n) :\n",
    "    driver.get('https://www.instagram.com/'+ username+'/')\n",
    "    time.sleep(1)\n",
    "    driver.find_element_by_xpath('//div[contains(@class, \"eLAPa\")]').click()   ##To open the first post\n",
    "    time.sleep(1)\n",
    "    \n",
    "    num_followers = follower_count[n]   ##already obtained follower count hence extracting from their\n",
    "    handle_likes=[]\n",
    "    for i in range(10) :\n",
    "        try :\n",
    "            driver.find_element_by_xpath('//div[contains(@class, \"Nm9Fw\")]/button')  #If likes is not present then it's a video\n",
    "            likes = driver.find_element_by_xpath('//div[contains(@class, \"Nm9Fw\")]/button').text\n",
    "            likes = likes.split(' ')[0]\n",
    "            if likes.find(',') != -1 :\n",
    "                likes = likes.split(',')\n",
    "                likes = likes[0]+likes[1]\n",
    "            handle_likes.append(int(likes))\n",
    "            \n",
    "        except NoSuchElementException :\n",
    "            driver.find_element_by_class_name('vcOH2').click()  #to view likes for that video\n",
    "            likes = driver.find_element_by_class_name('vJRqr').text\n",
    "            likes = likes.split(' ')[0]\n",
    "            if likes.find(',') != -1 :\n",
    "                likes = likes.split(',')\n",
    "                likes = likes[0]+likes[1]\n",
    "            handle_likes.append(int(likes))\n",
    "            driver.find_element_by_class_name('QhbhU').click()  ##To exit that otherwise next button won't be clickable\n",
    "            \n",
    "        driver.find_elements_by_xpath('//div[contains(@class, \"DdSX2\")]/a')[-1].click()  ##To click on next post\n",
    "        time.sleep(2)\n",
    "        \n",
    "    summ = 0\n",
    "    for i in range(10) :\n",
    "        summ = summ + handle_likes[i]\n",
    "    \n",
    "    avg_likes = summ/10\n",
    "    avg_follower = num_followers/avg_likes\n",
    "    \n",
    "    return avg_follower\n",
    "\n",
    "avg_follower_list=[]\n",
    "for i in range(5) :\n",
    "    average_f = average_followers(food_handles[i], i)\n",
    "    avg_follower_list.append(average_f)\n",
    "\n",
    "print(food_handles, avg_follower_list)"
   ]
  },
  {
   "cell_type": "code",
   "execution_count": 271,
   "metadata": {},
   "outputs": [
    {
     "data": {
      "image/png": "[encoded data removed]",
      "text/plain": [
       "<Figure size 432x288 with 1 Axes>"
      ]
     },
     "metadata": {
      "needs_background": "light"
     },
     "output_type": "display_data"
    }
   ],
   "source": [
    "#Ques 3, 4)\n",
    "\n",
    "plt.bar(food_handles, avg_follower_list)\n",
    "plt.title('Food Handles vs Average Followers')\n",
    "plt.xlabel('Food Handles')\n",
    "plt.xticks(rotation=60)\n",
    "plt.ylabel('Average Followers')\n",
    "for i in range(5) :\n",
    "    plt.text(food_handles[i], avg_follower_list[i]+5, round(avg_follower_list[i], 2))\n",
    "plt.grid()\n",
    "plt.show()"
   ]
  }
 ],
 "metadata": {
  "kernelspec": {
   "display_name": "Python 3",
   "language": "python",
   "name": "python3"
  },
  "language_info": {
   "codemirror_mode": {
    "name": "ipython",
    "version": 3
   },
   "file_extension": ".py",
   "mimetype": "text/x-python",
   "name": "python",
   "nbconvert_exporter": "python",
   "pygments_lexer": "ipython3",
   "version": "3.7.6"
  }
 },
 "nbformat": 4,
 "nbformat_minor": 4
}
